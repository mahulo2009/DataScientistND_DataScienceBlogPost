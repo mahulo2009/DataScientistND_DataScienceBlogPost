{
 "cells": [
  {
   "cell_type": "markdown",
   "metadata": {
    "pycharm": {
     "name": "#%% md\n"
    }
   },
   "source": [
    "## Grantecan Control System Following Error Dataset"
   ]
  },
  {
   "cell_type": "code",
   "execution_count": 141,
   "metadata": {
    "pycharm": {
     "is_executing": true,
     "name": "#%%\n"
    }
   },
   "outputs": [],
   "source": [
    "import numpy as np\n",
    "import pandas as pd\n",
    "import matplotlib.pyplot as plt\n",
    "import glob\n",
    "import seaborn as sns\n",
    "\n",
    "%matplotlib inline\n",
    "\n",
    "plt.rcParams[\"figure.figsize\"] = (11,5)"
   ]
  },
  {
   "cell_type": "code",
   "execution_count": 126,
   "metadata": {
    "pycharm": {
     "name": "#%%\n"
    }
   },
   "outputs": [
    {
     "name": "stderr",
     "output_type": "stream",
     "text": [
      "/tmp/ipykernel_92632/3882115159.py:1: DtypeWarning: Columns (7) have mixed types. Specify dtype option on import or set low_memory=False.\n",
      "  df = pd.read_csv('./sample_test_agosto.csv')\n"
     ]
    },
    {
     "data": {
      "text/html": [
       "<div>\n",
       "<style scoped>\n",
       "    .dataframe tbody tr th:only-of-type {\n",
       "        vertical-align: middle;\n",
       "    }\n",
       "\n",
       "    .dataframe tbody tr th {\n",
       "        vertical-align: top;\n",
       "    }\n",
       "\n",
       "    .dataframe thead th {\n",
       "        text-align: right;\n",
       "    }\n",
       "</style>\n",
       "<table border=\"1\" class=\"dataframe\">\n",
       "  <thead>\n",
       "    <tr style=\"text-align: right;\">\n",
       "      <th></th>\n",
       "      <th>TimeStampLong</th>\n",
       "      <th>MACS.AzimuthAxis.position</th>\n",
       "      <th>OE.ObservingEngine.slowGuideErrorA</th>\n",
       "      <th>MACS.ElevationAxis.position</th>\n",
       "      <th>ECS.DomeRotation.actualPosition</th>\n",
       "      <th>EMCS.WeatherStation.meanWindSpeed</th>\n",
       "      <th>OE.ObservingEngine.slowGuideErrorB</th>\n",
       "      <th>OE.ObservingEngine.currentObservingState</th>\n",
       "      <th>MACS.AzimuthAxis.followingError</th>\n",
       "      <th>EMCS.WeatherStation.windDirection</th>\n",
       "      <th>ECS.UpperShutter.actualPosition</th>\n",
       "    </tr>\n",
       "  </thead>\n",
       "  <tbody>\n",
       "    <tr>\n",
       "      <th>0</th>\n",
       "      <td>2021-08-01 20:00:00.021390</td>\n",
       "      <td>90.000628</td>\n",
       "      <td>NaN</td>\n",
       "      <td>NaN</td>\n",
       "      <td>NaN</td>\n",
       "      <td>NaN</td>\n",
       "      <td>NaN</td>\n",
       "      <td>NaN</td>\n",
       "      <td>NaN</td>\n",
       "      <td>NaN</td>\n",
       "      <td>NaN</td>\n",
       "    </tr>\n",
       "    <tr>\n",
       "      <th>1</th>\n",
       "      <td>2021-08-01 20:00:00.035147</td>\n",
       "      <td>NaN</td>\n",
       "      <td>NaN</td>\n",
       "      <td>NaN</td>\n",
       "      <td>NaN</td>\n",
       "      <td>NaN</td>\n",
       "      <td>NaN</td>\n",
       "      <td>NaN</td>\n",
       "      <td>0.0</td>\n",
       "      <td>NaN</td>\n",
       "      <td>NaN</td>\n",
       "    </tr>\n",
       "    <tr>\n",
       "      <th>2</th>\n",
       "      <td>2021-08-01 20:00:00.166484</td>\n",
       "      <td>NaN</td>\n",
       "      <td>NaN</td>\n",
       "      <td>35.000001</td>\n",
       "      <td>NaN</td>\n",
       "      <td>NaN</td>\n",
       "      <td>NaN</td>\n",
       "      <td>NaN</td>\n",
       "      <td>NaN</td>\n",
       "      <td>NaN</td>\n",
       "      <td>NaN</td>\n",
       "    </tr>\n",
       "    <tr>\n",
       "      <th>3</th>\n",
       "      <td>2021-08-01 20:00:00.323156</td>\n",
       "      <td>NaN</td>\n",
       "      <td>NaN</td>\n",
       "      <td>NaN</td>\n",
       "      <td>NaN</td>\n",
       "      <td>NaN</td>\n",
       "      <td>NaN</td>\n",
       "      <td>NaN</td>\n",
       "      <td>NaN</td>\n",
       "      <td>NaN</td>\n",
       "      <td>0.159</td>\n",
       "    </tr>\n",
       "    <tr>\n",
       "      <th>4</th>\n",
       "      <td>2021-08-01 20:00:00.719328</td>\n",
       "      <td>NaN</td>\n",
       "      <td>NaN</td>\n",
       "      <td>NaN</td>\n",
       "      <td>NaN</td>\n",
       "      <td>NaN</td>\n",
       "      <td>NaN</td>\n",
       "      <td>NaN</td>\n",
       "      <td>NaN</td>\n",
       "      <td>143.0</td>\n",
       "      <td>NaN</td>\n",
       "    </tr>\n",
       "  </tbody>\n",
       "</table>\n",
       "</div>"
      ],
      "text/plain": [
       "                TimeStampLong  MACS.AzimuthAxis.position  \\\n",
       "0  2021-08-01 20:00:00.021390                  90.000628   \n",
       "1  2021-08-01 20:00:00.035147                        NaN   \n",
       "2  2021-08-01 20:00:00.166484                        NaN   \n",
       "3  2021-08-01 20:00:00.323156                        NaN   \n",
       "4  2021-08-01 20:00:00.719328                        NaN   \n",
       "\n",
       "   OE.ObservingEngine.slowGuideErrorA  MACS.ElevationAxis.position  \\\n",
       "0                                 NaN                          NaN   \n",
       "1                                 NaN                          NaN   \n",
       "2                                 NaN                    35.000001   \n",
       "3                                 NaN                          NaN   \n",
       "4                                 NaN                          NaN   \n",
       "\n",
       "   ECS.DomeRotation.actualPosition  EMCS.WeatherStation.meanWindSpeed  \\\n",
       "0                              NaN                                NaN   \n",
       "1                              NaN                                NaN   \n",
       "2                              NaN                                NaN   \n",
       "3                              NaN                                NaN   \n",
       "4                              NaN                                NaN   \n",
       "\n",
       "   OE.ObservingEngine.slowGuideErrorB  \\\n",
       "0                                 NaN   \n",
       "1                                 NaN   \n",
       "2                                 NaN   \n",
       "3                                 NaN   \n",
       "4                                 NaN   \n",
       "\n",
       "  OE.ObservingEngine.currentObservingState  MACS.AzimuthAxis.followingError  \\\n",
       "0                                      NaN                              NaN   \n",
       "1                                      NaN                              0.0   \n",
       "2                                      NaN                              NaN   \n",
       "3                                      NaN                              NaN   \n",
       "4                                      NaN                              NaN   \n",
       "\n",
       "   EMCS.WeatherStation.windDirection  ECS.UpperShutter.actualPosition  \n",
       "0                                NaN                              NaN  \n",
       "1                                NaN                              NaN  \n",
       "2                                NaN                              NaN  \n",
       "3                                NaN                            0.159  \n",
       "4                              143.0                              NaN  "
      ]
     },
     "execution_count": 126,
     "metadata": {},
     "output_type": "execute_result"
    }
   ],
   "source": [
    "df = pd.read_csv('./sample_test_agosto.csv')\n",
    "df.head()"
   ]
  },
  {
   "cell_type": "code",
   "execution_count": 127,
   "metadata": {
    "pycharm": {
     "name": "#%%\n"
    }
   },
   "outputs": [
    {
     "data": {
      "text/plain": [
       "Index(['TimeStampLong', 'MACS.AzimuthAxis.position',\n",
       "       'OE.ObservingEngine.slowGuideErrorA', 'MACS.ElevationAxis.position',\n",
       "       'ECS.DomeRotation.actualPosition', 'EMCS.WeatherStation.meanWindSpeed',\n",
       "       'OE.ObservingEngine.slowGuideErrorB',\n",
       "       'OE.ObservingEngine.currentObservingState',\n",
       "       'MACS.AzimuthAxis.followingError', 'EMCS.WeatherStation.windDirection',\n",
       "       'ECS.UpperShutter.actualPosition'],\n",
       "      dtype='object')"
      ]
     },
     "execution_count": 127,
     "metadata": {},
     "output_type": "execute_result"
    }
   ],
   "source": [
    "df.columns"
   ]
  },
  {
   "cell_type": "code",
   "execution_count": 128,
   "metadata": {
    "pycharm": {
     "name": "#%%\n"
    }
   },
   "outputs": [
    {
     "data": {
      "text/html": [
       "<div>\n",
       "<style scoped>\n",
       "    .dataframe tbody tr th:only-of-type {\n",
       "        vertical-align: middle;\n",
       "    }\n",
       "\n",
       "    .dataframe tbody tr th {\n",
       "        vertical-align: top;\n",
       "    }\n",
       "\n",
       "    .dataframe thead th {\n",
       "        text-align: right;\n",
       "    }\n",
       "</style>\n",
       "<table border=\"1\" class=\"dataframe\">\n",
       "  <thead>\n",
       "    <tr style=\"text-align: right;\">\n",
       "      <th></th>\n",
       "      <th>MACS.AzimuthAxis.position</th>\n",
       "      <th>OE.ObservingEngine.slowGuideErrorA</th>\n",
       "      <th>MACS.ElevationAxis.position</th>\n",
       "      <th>ECS.DomeRotation.actualPosition</th>\n",
       "      <th>EMCS.WeatherStation.meanWindSpeed</th>\n",
       "      <th>OE.ObservingEngine.slowGuideErrorB</th>\n",
       "      <th>MACS.AzimuthAxis.followingError</th>\n",
       "      <th>EMCS.WeatherStation.windDirection</th>\n",
       "      <th>ECS.UpperShutter.actualPosition</th>\n",
       "    </tr>\n",
       "  </thead>\n",
       "  <tbody>\n",
       "    <tr>\n",
       "      <th>count</th>\n",
       "      <td>57047.000000</td>\n",
       "      <td>1.589750e+05</td>\n",
       "      <td>25760.000000</td>\n",
       "      <td>33436.000000</td>\n",
       "      <td>759.000000</td>\n",
       "      <td>1.703930e+05</td>\n",
       "      <td>1.264887e+06</td>\n",
       "      <td>362671.000000</td>\n",
       "      <td>5178.000000</td>\n",
       "    </tr>\n",
       "    <tr>\n",
       "      <th>mean</th>\n",
       "      <td>129.281965</td>\n",
       "      <td>-7.738993e-09</td>\n",
       "      <td>54.719721</td>\n",
       "      <td>182.983150</td>\n",
       "      <td>5.371003</td>\n",
       "      <td>-3.614958e-10</td>\n",
       "      <td>4.930434e-07</td>\n",
       "      <td>173.121871</td>\n",
       "      <td>43.891761</td>\n",
       "    </tr>\n",
       "    <tr>\n",
       "      <th>std</th>\n",
       "      <td>102.338639</td>\n",
       "      <td>7.738259e-07</td>\n",
       "      <td>18.485962</td>\n",
       "      <td>94.217006</td>\n",
       "      <td>5.172058</td>\n",
       "      <td>7.667015e-07</td>\n",
       "      <td>3.804382e-04</td>\n",
       "      <td>78.455752</td>\n",
       "      <td>25.462717</td>\n",
       "    </tr>\n",
       "    <tr>\n",
       "      <th>min</th>\n",
       "      <td>-161.655631</td>\n",
       "      <td>-5.592105e-05</td>\n",
       "      <td>0.465453</td>\n",
       "      <td>0.002694</td>\n",
       "      <td>-61.473930</td>\n",
       "      <td>-1.620179e-05</td>\n",
       "      <td>-3.973356e-03</td>\n",
       "      <td>0.000000</td>\n",
       "      <td>0.159000</td>\n",
       "    </tr>\n",
       "    <tr>\n",
       "      <th>25%</th>\n",
       "      <td>59.546954</td>\n",
       "      <td>-4.018344e-07</td>\n",
       "      <td>43.402724</td>\n",
       "      <td>118.993752</td>\n",
       "      <td>3.153994</td>\n",
       "      <td>-4.032220e-07</td>\n",
       "      <td>-3.231964e-05</td>\n",
       "      <td>137.000000</td>\n",
       "      <td>21.787251</td>\n",
       "    </tr>\n",
       "    <tr>\n",
       "      <th>50%</th>\n",
       "      <td>140.590426</td>\n",
       "      <td>-1.128278e-09</td>\n",
       "      <td>55.397055</td>\n",
       "      <td>178.672501</td>\n",
       "      <td>5.262489</td>\n",
       "      <td>-1.361359e-09</td>\n",
       "      <td>1.968724e-07</td>\n",
       "      <td>164.000000</td>\n",
       "      <td>43.795801</td>\n",
       "    </tr>\n",
       "    <tr>\n",
       "      <th>75%</th>\n",
       "      <td>198.569717</td>\n",
       "      <td>3.998674e-07</td>\n",
       "      <td>68.000660</td>\n",
       "      <td>257.268745</td>\n",
       "      <td>7.561867</td>\n",
       "      <td>4.030249e-07</td>\n",
       "      <td>3.291947e-05</td>\n",
       "      <td>204.000000</td>\n",
       "      <td>65.913126</td>\n",
       "    </tr>\n",
       "    <tr>\n",
       "      <th>max</th>\n",
       "      <td>355.429934</td>\n",
       "      <td>5.493642e-05</td>\n",
       "      <td>89.852648</td>\n",
       "      <td>359.997986</td>\n",
       "      <td>12.718378</td>\n",
       "      <td>7.992925e-05</td>\n",
       "      <td>3.467352e-03</td>\n",
       "      <td>359.000000</td>\n",
       "      <td>87.948502</td>\n",
       "    </tr>\n",
       "  </tbody>\n",
       "</table>\n",
       "</div>"
      ],
      "text/plain": [
       "       MACS.AzimuthAxis.position  OE.ObservingEngine.slowGuideErrorA  \\\n",
       "count               57047.000000                        1.589750e+05   \n",
       "mean                  129.281965                       -7.738993e-09   \n",
       "std                   102.338639                        7.738259e-07   \n",
       "min                  -161.655631                       -5.592105e-05   \n",
       "25%                    59.546954                       -4.018344e-07   \n",
       "50%                   140.590426                       -1.128278e-09   \n",
       "75%                   198.569717                        3.998674e-07   \n",
       "max                   355.429934                        5.493642e-05   \n",
       "\n",
       "       MACS.ElevationAxis.position  ECS.DomeRotation.actualPosition  \\\n",
       "count                 25760.000000                     33436.000000   \n",
       "mean                     54.719721                       182.983150   \n",
       "std                      18.485962                        94.217006   \n",
       "min                       0.465453                         0.002694   \n",
       "25%                      43.402724                       118.993752   \n",
       "50%                      55.397055                       178.672501   \n",
       "75%                      68.000660                       257.268745   \n",
       "max                      89.852648                       359.997986   \n",
       "\n",
       "       EMCS.WeatherStation.meanWindSpeed  OE.ObservingEngine.slowGuideErrorB  \\\n",
       "count                         759.000000                        1.703930e+05   \n",
       "mean                            5.371003                       -3.614958e-10   \n",
       "std                             5.172058                        7.667015e-07   \n",
       "min                           -61.473930                       -1.620179e-05   \n",
       "25%                             3.153994                       -4.032220e-07   \n",
       "50%                             5.262489                       -1.361359e-09   \n",
       "75%                             7.561867                        4.030249e-07   \n",
       "max                            12.718378                        7.992925e-05   \n",
       "\n",
       "       MACS.AzimuthAxis.followingError  EMCS.WeatherStation.windDirection  \\\n",
       "count                     1.264887e+06                      362671.000000   \n",
       "mean                      4.930434e-07                         173.121871   \n",
       "std                       3.804382e-04                          78.455752   \n",
       "min                      -3.973356e-03                           0.000000   \n",
       "25%                      -3.231964e-05                         137.000000   \n",
       "50%                       1.968724e-07                         164.000000   \n",
       "75%                       3.291947e-05                         204.000000   \n",
       "max                       3.467352e-03                         359.000000   \n",
       "\n",
       "       ECS.UpperShutter.actualPosition  \n",
       "count                      5178.000000  \n",
       "mean                         43.891761  \n",
       "std                          25.462717  \n",
       "min                           0.159000  \n",
       "25%                          21.787251  \n",
       "50%                          43.795801  \n",
       "75%                          65.913126  \n",
       "max                          87.948502  "
      ]
     },
     "execution_count": 128,
     "metadata": {},
     "output_type": "execute_result"
    }
   ],
   "source": [
    "df.describe()"
   ]
  },
  {
   "cell_type": "code",
   "execution_count": 129,
   "metadata": {
    "pycharm": {
     "name": "#%%\n"
    }
   },
   "outputs": [
    {
     "data": {
      "text/html": [
       "<div>\n",
       "<style scoped>\n",
       "    .dataframe tbody tr th:only-of-type {\n",
       "        vertical-align: middle;\n",
       "    }\n",
       "\n",
       "    .dataframe tbody tr th {\n",
       "        vertical-align: top;\n",
       "    }\n",
       "\n",
       "    .dataframe thead th {\n",
       "        text-align: right;\n",
       "    }\n",
       "</style>\n",
       "<table border=\"1\" class=\"dataframe\">\n",
       "  <thead>\n",
       "    <tr style=\"text-align: right;\">\n",
       "      <th></th>\n",
       "      <th>TimeStampLong</th>\n",
       "      <th>MACS.AzimuthAxis.position</th>\n",
       "      <th>OE.ObservingEngine.slowGuideErrorA</th>\n",
       "      <th>MACS.ElevationAxis.position</th>\n",
       "      <th>ECS.DomeRotation.actualPosition</th>\n",
       "      <th>EMCS.WeatherStation.meanWindSpeed</th>\n",
       "      <th>OE.ObservingEngine.slowGuideErrorB</th>\n",
       "      <th>OE.ObservingEngine.currentObservingState</th>\n",
       "      <th>MACS.AzimuthAxis.followingError</th>\n",
       "      <th>EMCS.WeatherStation.windDirection</th>\n",
       "      <th>ECS.UpperShutter.actualPosition</th>\n",
       "    </tr>\n",
       "  </thead>\n",
       "  <tbody>\n",
       "    <tr>\n",
       "      <th>648</th>\n",
       "      <td>2021-08-01 20:27:24.615307</td>\n",
       "      <td>90.000628</td>\n",
       "      <td>0.0</td>\n",
       "      <td>35.000001</td>\n",
       "      <td>90.802002</td>\n",
       "      <td>6.433767</td>\n",
       "      <td>0.0</td>\n",
       "      <td>SLEWING</td>\n",
       "      <td>-0.000007</td>\n",
       "      <td>150.0</td>\n",
       "      <td>87.931297</td>\n",
       "    </tr>\n",
       "    <tr>\n",
       "      <th>649</th>\n",
       "      <td>2021-08-01 20:27:24.719391</td>\n",
       "      <td>90.000628</td>\n",
       "      <td>0.0</td>\n",
       "      <td>35.000001</td>\n",
       "      <td>90.802002</td>\n",
       "      <td>6.433767</td>\n",
       "      <td>0.0</td>\n",
       "      <td>SLEWING</td>\n",
       "      <td>-0.000007</td>\n",
       "      <td>149.0</td>\n",
       "      <td>87.931297</td>\n",
       "    </tr>\n",
       "    <tr>\n",
       "      <th>650</th>\n",
       "      <td>2021-08-01 20:27:24.914932</td>\n",
       "      <td>90.000628</td>\n",
       "      <td>0.0</td>\n",
       "      <td>35.000001</td>\n",
       "      <td>90.802002</td>\n",
       "      <td>6.433767</td>\n",
       "      <td>0.0</td>\n",
       "      <td>TRACKING</td>\n",
       "      <td>-0.000007</td>\n",
       "      <td>149.0</td>\n",
       "      <td>87.931297</td>\n",
       "    </tr>\n",
       "    <tr>\n",
       "      <th>651</th>\n",
       "      <td>2021-08-01 20:27:25.015043</td>\n",
       "      <td>90.000628</td>\n",
       "      <td>0.0</td>\n",
       "      <td>35.000001</td>\n",
       "      <td>90.802002</td>\n",
       "      <td>6.433767</td>\n",
       "      <td>0.0</td>\n",
       "      <td>SLEWING</td>\n",
       "      <td>-0.000007</td>\n",
       "      <td>149.0</td>\n",
       "      <td>87.931297</td>\n",
       "    </tr>\n",
       "    <tr>\n",
       "      <th>652</th>\n",
       "      <td>2021-08-01 20:27:25.435184</td>\n",
       "      <td>90.000628</td>\n",
       "      <td>0.0</td>\n",
       "      <td>35.000001</td>\n",
       "      <td>90.802002</td>\n",
       "      <td>6.433767</td>\n",
       "      <td>0.0</td>\n",
       "      <td>SLEWING</td>\n",
       "      <td>-0.000028</td>\n",
       "      <td>149.0</td>\n",
       "      <td>87.931297</td>\n",
       "    </tr>\n",
       "  </tbody>\n",
       "</table>\n",
       "</div>"
      ],
      "text/plain": [
       "                  TimeStampLong  MACS.AzimuthAxis.position  \\\n",
       "648  2021-08-01 20:27:24.615307                  90.000628   \n",
       "649  2021-08-01 20:27:24.719391                  90.000628   \n",
       "650  2021-08-01 20:27:24.914932                  90.000628   \n",
       "651  2021-08-01 20:27:25.015043                  90.000628   \n",
       "652  2021-08-01 20:27:25.435184                  90.000628   \n",
       "\n",
       "     OE.ObservingEngine.slowGuideErrorA  MACS.ElevationAxis.position  \\\n",
       "648                                 0.0                    35.000001   \n",
       "649                                 0.0                    35.000001   \n",
       "650                                 0.0                    35.000001   \n",
       "651                                 0.0                    35.000001   \n",
       "652                                 0.0                    35.000001   \n",
       "\n",
       "     ECS.DomeRotation.actualPosition  EMCS.WeatherStation.meanWindSpeed  \\\n",
       "648                        90.802002                           6.433767   \n",
       "649                        90.802002                           6.433767   \n",
       "650                        90.802002                           6.433767   \n",
       "651                        90.802002                           6.433767   \n",
       "652                        90.802002                           6.433767   \n",
       "\n",
       "     OE.ObservingEngine.slowGuideErrorB  \\\n",
       "648                                 0.0   \n",
       "649                                 0.0   \n",
       "650                                 0.0   \n",
       "651                                 0.0   \n",
       "652                                 0.0   \n",
       "\n",
       "    OE.ObservingEngine.currentObservingState  MACS.AzimuthAxis.followingError  \\\n",
       "648                                  SLEWING                        -0.000007   \n",
       "649                                  SLEWING                        -0.000007   \n",
       "650                                 TRACKING                        -0.000007   \n",
       "651                                  SLEWING                        -0.000007   \n",
       "652                                  SLEWING                        -0.000028   \n",
       "\n",
       "     EMCS.WeatherStation.windDirection  ECS.UpperShutter.actualPosition  \n",
       "648                              150.0                        87.931297  \n",
       "649                              149.0                        87.931297  \n",
       "650                              149.0                        87.931297  \n",
       "651                              149.0                        87.931297  \n",
       "652                              149.0                        87.931297  "
      ]
     },
     "execution_count": 129,
     "metadata": {},
     "output_type": "execute_result"
    }
   ],
   "source": [
    "df = df.fillna(method='ffill')\n",
    "df = df.dropna()\n",
    "df.head()"
   ]
  },
  {
   "cell_type": "code",
   "execution_count": 130,
   "metadata": {
    "pycharm": {
     "name": "#%%\n"
    }
   },
   "outputs": [
    {
     "name": "stderr",
     "output_type": "stream",
     "text": [
      "/tmp/ipykernel_92632/3418195145.py:2: SettingWithCopyWarning: \n",
      "A value is trying to be set on a copy of a slice from a DataFrame.\n",
      "Try using .loc[row_indexer,col_indexer] = value instead\n",
      "\n",
      "See the caveats in the documentation: https://pandas.pydata.org/pandas-docs/stable/user_guide/indexing.html#returning-a-view-versus-a-copy\n",
      "  df_track['MACS.AzimuthAxis.followingError'] = df_track['MACS.AzimuthAxis.followingError'].abs()\n"
     ]
    },
    {
     "data": {
      "text/html": [
       "<div>\n",
       "<style scoped>\n",
       "    .dataframe tbody tr th:only-of-type {\n",
       "        vertical-align: middle;\n",
       "    }\n",
       "\n",
       "    .dataframe tbody tr th {\n",
       "        vertical-align: top;\n",
       "    }\n",
       "\n",
       "    .dataframe thead th {\n",
       "        text-align: right;\n",
       "    }\n",
       "</style>\n",
       "<table border=\"1\" class=\"dataframe\">\n",
       "  <thead>\n",
       "    <tr style=\"text-align: right;\">\n",
       "      <th></th>\n",
       "      <th>TimeStampLong</th>\n",
       "      <th>MACS.AzimuthAxis.position</th>\n",
       "      <th>OE.ObservingEngine.slowGuideErrorA</th>\n",
       "      <th>MACS.ElevationAxis.position</th>\n",
       "      <th>ECS.DomeRotation.actualPosition</th>\n",
       "      <th>EMCS.WeatherStation.meanWindSpeed</th>\n",
       "      <th>OE.ObservingEngine.slowGuideErrorB</th>\n",
       "      <th>OE.ObservingEngine.currentObservingState</th>\n",
       "      <th>MACS.AzimuthAxis.followingError</th>\n",
       "      <th>EMCS.WeatherStation.windDirection</th>\n",
       "      <th>ECS.UpperShutter.actualPosition</th>\n",
       "    </tr>\n",
       "  </thead>\n",
       "  <tbody>\n",
       "    <tr>\n",
       "      <th>650</th>\n",
       "      <td>2021-08-01 20:27:24.914932</td>\n",
       "      <td>90.000628</td>\n",
       "      <td>0.0</td>\n",
       "      <td>35.000001</td>\n",
       "      <td>90.802002</td>\n",
       "      <td>6.433767</td>\n",
       "      <td>0.0</td>\n",
       "      <td>TRACKING</td>\n",
       "      <td>0.000007</td>\n",
       "      <td>149.0</td>\n",
       "      <td>87.931297</td>\n",
       "    </tr>\n",
       "    <tr>\n",
       "      <th>2158</th>\n",
       "      <td>2021-08-01 20:30:33.714605</td>\n",
       "      <td>-87.640613</td>\n",
       "      <td>0.0</td>\n",
       "      <td>57.682317</td>\n",
       "      <td>272.269989</td>\n",
       "      <td>6.433767</td>\n",
       "      <td>0.0</td>\n",
       "      <td>TRACKING</td>\n",
       "      <td>0.000746</td>\n",
       "      <td>150.0</td>\n",
       "      <td>87.931297</td>\n",
       "    </tr>\n",
       "    <tr>\n",
       "      <th>2159</th>\n",
       "      <td>2021-08-01 20:30:33.719317</td>\n",
       "      <td>-87.640613</td>\n",
       "      <td>0.0</td>\n",
       "      <td>57.682317</td>\n",
       "      <td>272.269989</td>\n",
       "      <td>6.433767</td>\n",
       "      <td>0.0</td>\n",
       "      <td>TRACKING</td>\n",
       "      <td>0.000746</td>\n",
       "      <td>153.0</td>\n",
       "      <td>87.931297</td>\n",
       "    </tr>\n",
       "    <tr>\n",
       "      <th>2160</th>\n",
       "      <td>2021-08-01 20:30:33.835295</td>\n",
       "      <td>-87.640613</td>\n",
       "      <td>0.0</td>\n",
       "      <td>57.682317</td>\n",
       "      <td>272.269989</td>\n",
       "      <td>6.433767</td>\n",
       "      <td>0.0</td>\n",
       "      <td>TRACKING</td>\n",
       "      <td>0.000663</td>\n",
       "      <td>153.0</td>\n",
       "      <td>87.931297</td>\n",
       "    </tr>\n",
       "    <tr>\n",
       "      <th>2161</th>\n",
       "      <td>2021-08-01 20:30:34.035165</td>\n",
       "      <td>-87.640613</td>\n",
       "      <td>0.0</td>\n",
       "      <td>57.682317</td>\n",
       "      <td>272.269989</td>\n",
       "      <td>6.433767</td>\n",
       "      <td>0.0</td>\n",
       "      <td>TRACKING</td>\n",
       "      <td>0.000604</td>\n",
       "      <td>153.0</td>\n",
       "      <td>87.931297</td>\n",
       "    </tr>\n",
       "  </tbody>\n",
       "</table>\n",
       "</div>"
      ],
      "text/plain": [
       "                   TimeStampLong  MACS.AzimuthAxis.position  \\\n",
       "650   2021-08-01 20:27:24.914932                  90.000628   \n",
       "2158  2021-08-01 20:30:33.714605                 -87.640613   \n",
       "2159  2021-08-01 20:30:33.719317                 -87.640613   \n",
       "2160  2021-08-01 20:30:33.835295                 -87.640613   \n",
       "2161  2021-08-01 20:30:34.035165                 -87.640613   \n",
       "\n",
       "      OE.ObservingEngine.slowGuideErrorA  MACS.ElevationAxis.position  \\\n",
       "650                                  0.0                    35.000001   \n",
       "2158                                 0.0                    57.682317   \n",
       "2159                                 0.0                    57.682317   \n",
       "2160                                 0.0                    57.682317   \n",
       "2161                                 0.0                    57.682317   \n",
       "\n",
       "      ECS.DomeRotation.actualPosition  EMCS.WeatherStation.meanWindSpeed  \\\n",
       "650                         90.802002                           6.433767   \n",
       "2158                       272.269989                           6.433767   \n",
       "2159                       272.269989                           6.433767   \n",
       "2160                       272.269989                           6.433767   \n",
       "2161                       272.269989                           6.433767   \n",
       "\n",
       "      OE.ObservingEngine.slowGuideErrorB  \\\n",
       "650                                  0.0   \n",
       "2158                                 0.0   \n",
       "2159                                 0.0   \n",
       "2160                                 0.0   \n",
       "2161                                 0.0   \n",
       "\n",
       "     OE.ObservingEngine.currentObservingState  \\\n",
       "650                                  TRACKING   \n",
       "2158                                 TRACKING   \n",
       "2159                                 TRACKING   \n",
       "2160                                 TRACKING   \n",
       "2161                                 TRACKING   \n",
       "\n",
       "      MACS.AzimuthAxis.followingError  EMCS.WeatherStation.windDirection  \\\n",
       "650                          0.000007                              149.0   \n",
       "2158                         0.000746                              150.0   \n",
       "2159                         0.000746                              153.0   \n",
       "2160                         0.000663                              153.0   \n",
       "2161                         0.000604                              153.0   \n",
       "\n",
       "      ECS.UpperShutter.actualPosition  \n",
       "650                         87.931297  \n",
       "2158                        87.931297  \n",
       "2159                        87.931297  \n",
       "2160                        87.931297  \n",
       "2161                        87.931297  "
      ]
     },
     "execution_count": 130,
     "metadata": {},
     "output_type": "execute_result"
    }
   ],
   "source": [
    "df_track = df[( df['OE.ObservingEngine.currentObservingState'] =='TRACKING' )  | ( df['OE.ObservingEngine.currentObservingState'] =='GUIDING' )]\n",
    "df_track['MACS.AzimuthAxis.followingError'] = df_track['MACS.AzimuthAxis.followingError'].abs()\n",
    "df_track.head()\n"
   ]
  },
  {
   "cell_type": "code",
   "execution_count": 131,
   "metadata": {
    "pycharm": {
     "name": "#%%\n"
    }
   },
   "outputs": [
    {
     "data": {
      "image/png": "[encoded data removed]",
      "text/plain": [
       "<Figure size 792x360 with 2 Axes>"
      ]
     },
     "metadata": {
      "needs_background": "light"
     },
     "output_type": "display_data"
    }
   ],
   "source": [
    "sns.heatmap(df_track.corr(), annot=True, fmt=\".2f\")\n",
    "plt.show()"
   ]
  },
  {
   "cell_type": "code",
   "execution_count": 132,
   "metadata": {
    "pycharm": {
     "name": "#%%\n"
    }
   },
   "outputs": [
    {
     "name": "stderr",
     "output_type": "stream",
     "text": [
      "/tmp/ipykernel_92632/2143936732.py:2: SettingWithCopyWarning: \n",
      "A value is trying to be set on a copy of a slice from a DataFrame.\n",
      "Try using .loc[row_indexer,col_indexer] = value instead\n",
      "\n",
      "See the caveats in the documentation: https://pandas.pydata.org/pandas-docs/stable/user_guide/indexing.html#returning-a-view-versus-a-copy\n",
      "  df_foll['MACS.AzimuthAxis.followingError'] = df_foll['MACS.AzimuthAxis.followingError'].abs()\n"
     ]
    },
    {
     "data": {
      "text/plain": [
       "0.0002500007176163"
      ]
     },
     "execution_count": 132,
     "metadata": {},
     "output_type": "execute_result"
    }
   ],
   "source": [
    "df_foll = (df_track[ abs(df_track['MACS.AzimuthAxis.followingError']) > 2.5e-4 ])\n",
    "df_foll['MACS.AzimuthAxis.followingError'] = df_foll['MACS.AzimuthAxis.followingError'].abs()\n",
    "df_foll['MACS.AzimuthAxis.followingError'].min()\n",
    "\n",
    "\n"
   ]
  },
  {
   "cell_type": "code",
   "execution_count": 133,
   "metadata": {
    "pycharm": {
     "name": "#%%\n"
    }
   },
   "outputs": [
    {
     "data": {
      "image/png": "[encoded data removed]",
      "text/plain": [
       "<Figure size 792x360 with 2 Axes>"
      ]
     },
     "metadata": {
      "needs_background": "light"
     },
     "output_type": "display_data"
    }
   ],
   "source": [
    "sns.heatmap(df_foll.corr(), annot=True, fmt=\".2f\")\n",
    "plt.show()"
   ]
  },
  {
   "cell_type": "code",
   "execution_count": 134,
   "metadata": {
    "pycharm": {
     "name": "#%%\n"
    }
   },
   "outputs": [],
   "source": [
    "#df_foll.plot.scatter(x='TimeStampLong',y='MACS.AzimuthAxis.followingError')"
   ]
  },
  {
   "cell_type": "code",
   "execution_count": 135,
   "metadata": {
    "pycharm": {
     "name": "#%%\n"
    }
   },
   "outputs": [],
   "source": [
    "elevation_track_vals = df_track.groupby(pd.cut(df_track['MACS.ElevationAxis.position'], np.arange(20, 90, 5)))['MACS.ElevationAxis.position'].count()"
   ]
  },
  {
   "cell_type": "code",
   "execution_count": 136,
   "metadata": {
    "pycharm": {
     "name": "#%%\n"
    }
   },
   "outputs": [
    {
     "data": {
      "image/png": "[encoded data removed]",
      "text/plain": [
       "<Figure size 792x360 with 1 Axes>"
      ]
     },
     "metadata": {
      "needs_background": "light"
     },
     "output_type": "display_data"
    }
   ],
   "source": [
    "(elevation_track_vals/df_track.shape[0]).plot(kind=\"bar\");\n",
    "plt.title(\"Elevation Position \");"
   ]
  },
  {
   "cell_type": "code",
   "execution_count": 137,
   "metadata": {
    "pycharm": {
     "name": "#%%\n"
    }
   },
   "outputs": [],
   "source": [
    "elevation_foll_bad_vals = df_foll.groupby(pd.cut(df_foll['MACS.ElevationAxis.position'], np.arange(20, 90, 5)))['MACS.AzimuthAxis.followingError'].count()"
   ]
  },
  {
   "cell_type": "code",
   "execution_count": null,
   "metadata": {
    "pycharm": {
     "name": "#%%\n"
    }
   },
   "outputs": [],
   "source": [
    "(elevation_foll_bad_vals/df_track.shape[0]).plot(kind=\"bar\");\n",
    "plt.title(\"Elevation Position \");"
   ]
  },
  {
   "cell_type": "code",
   "execution_count": null,
   "metadata": {
    "pycharm": {
     "name": "#%%\n"
    }
   },
   "outputs": [],
   "source": [
    "azimuth_position_vals = df_track.groupby(pd.cut(df_track['MACS.AzimuthAxis.position'], np.arange(-175.7, 355.7, 50)))['MACS.AzimuthAxis.position'].count()"
   ]
  },
  {
   "cell_type": "code",
   "execution_count": null,
   "metadata": {
    "pycharm": {
     "name": "#%%\n"
    }
   },
   "outputs": [],
   "source": [
    "(azimuth_position_vals/df.shape[0]).plot(kind=\"bar\");\n",
    "plt.title(\"Aximuth Position \");"
   ]
  },
  {
   "cell_type": "code",
   "execution_count": null,
   "metadata": {
    "pycharm": {
     "name": "#%%\n"
    }
   },
   "outputs": [],
   "source": [
    "azimuth_foll_bad_vals = df_foll.groupby(pd.cut(df_foll['MACS.AzimuthAxis.position'], np.arange(-175.7, 355.7, 50)))['MACS.AzimuthAxis.followingError'].count()"
   ]
  },
  {
   "cell_type": "code",
   "execution_count": null,
   "metadata": {
    "pycharm": {
     "name": "#%%\n"
    }
   },
   "outputs": [],
   "source": [
    "(azimuth_foll_bad_vals).plot(kind=\"bar\");\n",
    "plt.title(\"Azimuth Position \");"
   ]
  },
  {
   "cell_type": "code",
   "execution_count": null,
   "metadata": {
    "pycharm": {
     "name": "#%%\n"
    }
   },
   "outputs": [],
   "source": [
    "plt.figure()\n",
    "df[[ 'ECS.DomeRotation.actualPosition','EMCS.WeatherStation.windDirection']].plot(kind='hist', alpha=0.5)"
   ]
  },
  {
   "cell_type": "code",
   "execution_count": null,
   "metadata": {
    "pycharm": {
     "name": "#%%\n"
    }
   },
   "outputs": [],
   "source": [
    "df_foll.insert(1,\"Elevation_30_40\",df_foll['MACS.ElevationAxis.position'].between(30, 39.9),True)\n",
    "df_foll.insert(1,\"Elevation_40_50\",df_foll['MACS.ElevationAxis.position'].between(40, 49.9),True)\n",
    "df_foll.insert(1,\"Elevation_50_60\",df_foll['MACS.ElevationAxis.position'].between(50, 59.9),True)\n",
    "df_foll.insert(1,\"Elevation_60_70\",df_foll['MACS.ElevationAxis.position'].between(60, 69.9),True)\n",
    "df_foll.insert(1,\"Elevation_70_80\",df_foll['MACS.ElevationAxis.position'].between(70, 70.9),True)\n",
    "df_foll.insert(1,\"Elevation_80_90\",df_foll['MACS.ElevationAxis.position'].between(80, 90),True)\n"
   ]
  },
  {
   "cell_type": "code",
   "execution_count": null,
   "metadata": {
    "pycharm": {
     "name": "#%%\n"
    }
   },
   "outputs": [],
   "source": [
    "\n",
    "df_foll.shape"
   ]
  },
  {
   "cell_type": "code",
   "execution_count": null,
   "metadata": {
    "pycharm": {
     "name": "#%%\n"
    }
   },
   "outputs": [],
   "source": [
    "sns.heatmap(df_foll.corr(), annot=True, fmt=\".2f\")\n",
    "plt.show()"
   ]
  },
  {
   "cell_type": "code",
   "execution_count": null,
   "metadata": {
    "pycharm": {
     "name": "#%%\n"
    }
   },
   "outputs": [],
   "source": [
    "(elevation_track_vals/df_track.shape[0]).plot(kind=\"bar\");\n",
    "plt.title(\"Elevation Position \");"
   ]
  },
  {
   "cell_type": "code",
   "execution_count": null,
   "metadata": {
    "pycharm": {
     "name": "#%%\n"
    }
   },
   "outputs": [],
   "source": [
    "elevation_foll_ok_vals = df_foll.groupby(pd.cut(df_foll['MACS.ElevationAxis.position'], np.arange(20, 90, 5)))['MACS.AzimuthAxis.followingError'].count()"
   ]
  },
  {
   "cell_type": "code",
   "execution_count": null,
   "metadata": {
    "pycharm": {
     "name": "#%%\n"
    }
   },
   "outputs": [],
   "source": [
    "(100*(elevation_track_vals-elevation_foll_ok_vals)).plot(kind=\"bar\");\n",
    "plt.title(\"Elevation Position \");"
   ]
  },
  {
   "cell_type": "code",
   "execution_count": null,
   "metadata": {
    "pycharm": {
     "name": "#%%\n"
    }
   },
   "outputs": [],
   "source": [
    "azimuth_position_vals = df_track.groupby(pd.cut(df_track['MACS.AzimuthAxis.position'], np.arange(-175.7, 355.7, 50)))['MACS.AzimuthAxis.position'].count()"
   ]
  },
  {
   "cell_type": "code",
   "execution_count": null,
   "metadata": {
    "pycharm": {
     "name": "#%%\n"
    }
   },
   "outputs": [],
   "source": [
    "(azimuth_position_vals/df.shape[0]).plot(kind=\"bar\");\n",
    "plt.title(\"Aximuth Position \");"
   ]
  },
  {
   "cell_type": "code",
   "execution_count": null,
   "metadata": {
    "pycharm": {
     "name": "#%%\n"
    }
   },
   "outputs": [],
   "source": [
    "elevation_position_vals = df_foll.groupby(pd.cut(df_foll['MACS.ElevationAxis.position'], np.arange(29, 90,5)))['MACS.AzimuthAxis.followingError'].count()"
   ]
  },
  {
   "cell_type": "code",
   "execution_count": null,
   "metadata": {
    "pycharm": {
     "name": "#%%\n"
    }
   },
   "outputs": [],
   "source": [
    "df_track.shape[0]-df_foll.shape[0]\n"
   ]
  },
  {
   "cell_type": "code",
   "execution_count": null,
   "metadata": {
    "pycharm": {
     "name": "#%%\n"
    }
   },
   "outputs": [],
   "source": [
    "(elevation_position_vals).plot(kind=\"bar\");\n",
    "plt.title(\"Elevation Position \");"
   ]
  },
  {
   "cell_type": "code",
   "execution_count": null,
   "metadata": {
    "pycharm": {
     "name": "#%%\n"
    }
   },
   "outputs": [],
   "source": [
    "df_track.shape"
   ]
  },
  {
   "cell_type": "code",
   "execution_count": null,
   "metadata": {
    "pycharm": {
     "name": "#%%\n"
    }
   },
   "outputs": [],
   "source": [
    "(elevation_position_vals_mean/df.shape[0]).plot(kind=\"bar\");\n",
    "plt.title(\"Aximuth Position \");"
   ]
  },
  {
   "cell_type": "code",
   "execution_count": null,
   "metadata": {
    "pycharm": {
     "name": "#%%\n"
    }
   },
   "outputs": [],
   "source": [
    "azimuth_position_vals = df_foll.groupby(pd.cut(df_foll['MACS.AzimuthAxis.position'], np.arange(-175.7, 355.7, 50)))['MACS.AzimuthAxis.position'].count()"
   ]
  },
  {
   "cell_type": "code",
   "execution_count": null,
   "metadata": {
    "pycharm": {
     "name": "#%%\n"
    }
   },
   "outputs": [],
   "source": [
    "(azimuth_position_vals/df.shape[0]).plot(kind=\"bar\");\n",
    "plt.title(\"Aximuth Position \");"
   ]
  },
  {
   "cell_type": "code",
   "execution_count": null,
   "metadata": {
    "pycharm": {
     "name": "#%%\n"
    }
   },
   "outputs": [],
   "source": [
    "plt.figure()\n",
    "df[[ 'ECS.DomeRotation.actualPosition','EMCS.WeatherStation.windDirection']].plot(kind='hist', alpha=0.5)"
   ]
  },
  {
   "cell_type": "code",
   "execution_count": null,
   "metadata": {
    "pycharm": {
     "name": "#%%\n"
    }
   },
   "outputs": [],
   "source": [
    "\n",
    "df_foll.head()"
   ]
  },
  {
   "cell_type": "code",
   "execution_count": null,
   "metadata": {
    "pycharm": {
     "name": "#%%\n"
    }
   },
   "outputs": [],
   "source": [
    "df_foll.insert(1,\"Elevation_30_40\",df_foll['MACS.ElevationAxis.position'].between(30, 39.9),True)\n",
    "df_foll.insert(1,\"Elevation_40_50\",df_foll['MACS.ElevationAxis.position'].between(40, 49.9),True)\n",
    "df_foll.insert(1,\"Elevation_50_60\",df_foll['MACS.ElevationAxis.position'].between(50, 59.9),True)\n",
    "df_foll.insert(1,\"Elevation_60_70\",df_foll['MACS.ElevationAxis.position'].between(60, 69.9),True)\n",
    "df_foll.insert(1,\"Elevation_70_80\",df_foll['MACS.ElevationAxis.position'].between(70, 70.9),True)\n",
    "df_foll.insert(1,\"Elevation_80_90\",df_foll['MACS.ElevationAxis.position'].between(80, 90),True)\n"
   ]
  },
  {
   "cell_type": "code",
   "execution_count": null,
   "metadata": {
    "pycharm": {
     "name": "#%%\n"
    }
   },
   "outputs": [],
   "source": [
    "sns.heatmap(df_foll[['Elevation_30_40','Elevation_40_50','Elevation_50_60','Elevation_60_70','Elevation_70_80','Elevation_80_90','MACS.AzimuthAxis.followingError']].corr(), annot=True, fmt=\".2f\")\n",
    "plt.show()"
   ]
  },
  {
   "cell_type": "code",
   "execution_count": null,
   "metadata": {
    "pycharm": {
     "name": "#%%\n"
    }
   },
   "outputs": [],
   "source": []
  },
  {
   "cell_type": "code",
   "execution_count": null,
   "metadata": {
    "pycharm": {
     "name": "#%%\n"
    }
   },
   "outputs": [],
   "source": []
  },
  {
   "cell_type": "code",
   "execution_count": null,
   "metadata": {
    "pycharm": {
     "name": "#%%\n"
    }
   },
   "outputs": [],
   "source": []
  },
  {
   "cell_type": "code",
   "execution_count": null,
   "metadata": {
    "pycharm": {
     "name": "#%%\n"
    }
   },
   "outputs": [],
   "source": []
  },
  {
   "cell_type": "code",
   "execution_count": null,
   "metadata": {
    "pycharm": {
     "name": "#%%\n"
    }
   },
   "outputs": [],
   "source": []
  }
 ],
 "metadata": {
  "kernelspec": {
   "display_name": "Python 3 (ipykernel)",
   "language": "python",
   "name": "python3"
  },
  "language_info": {
   "codemirror_mode": {
    "name": "ipython",
    "version": 3
   },
   "file_extension": ".py",
   "mimetype": "text/x-python",
   "name": "python",
   "nbconvert_exporter": "python",
   "pygments_lexer": "ipython3",
   "version": "3.10.4"
  }
 },
 "nbformat": 4,
 "nbformat_minor": 1
}